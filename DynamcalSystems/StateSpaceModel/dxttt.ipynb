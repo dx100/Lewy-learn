{
 "cells": [
  {
   "cell_type": "markdown",
   "metadata": {},
   "source": [
    "# State Space Model"
   ]
  },
  {
   "cell_type": "markdown",
   "metadata": {},
   "source": [
    "This is based on [YouTube Video (APMonitor)](https://www.youtube.com/watch?v=AmYWJnPnjY8)"
   ]
  },
  {
   "cell_type": "markdown",
   "metadata": {},
   "source": [
    "## General form\n",
    "The general form of the problem is \n",
    "$$\n",
    "\\begin{align}\n",
    "\\frac{dx}{dt} &= Ax + Bu \\\\\n",
    "y & = Cx + Du\n",
    "\\end{align}\n",
    "$$\n",
    "where x are the state variables and y is the output"
   ]
  },
  {
   "cell_type": "markdown",
   "metadata": {},
   "source": [
    "### First order differential equation"
   ]
  },
  {
   "cell_type": "markdown",
   "metadata": {},
   "source": [
    "$$\n",
    "\\begin{align}\n",
    "3\\frac{dx}{dt} + 12 x &= 6 u \\\\\n",
    "y &= x\n",
    "\\end{align}\n",
    "$$"
   ]
  },
  {
   "cell_type": "markdown",
   "metadata": {},
   "source": [
    "It can be reorganised as\n",
    "$$\n",
    "\\begin{align}\n",
    "\\frac{dx}{dt} &= -4x + 2u \\\\\n",
    "y &= x\n",
    "\\end{align}\n",
    "$$\n",
    "Therefore, we have:"
   ]
  },
  {
   "cell_type": "code",
   "execution_count": 1,
   "metadata": {
    "collapsed": true
   },
   "outputs": [],
   "source": [
    "import numpy as np\n",
    "from scipy import signal\n",
    "import matplotlib.pyplot as plt\n",
    "%matplotlib inline"
   ]
  },
  {
   "cell_type": "code",
   "execution_count": 3,
   "metadata": {
    "scrolled": true
   },
   "outputs": [
    {
     "data": {
      "text/plain": [
       "[<matplotlib.lines.Line2D at 0x1ee59b21358>]"
      ]
     },
     "execution_count": 3,
     "metadata": {},
     "output_type": "execute_result"
    },
    {
     "data": {
      "image/png": "[encoded data removed]",
      "text/plain": [
       "<matplotlib.figure.Figure at 0x1ee5c273da0>"
      ]
     },
     "metadata": {},
     "output_type": "display_data"
    }
   ],
   "source": [
    "# problem 1\n",
    "A = -4.0\n",
    "B = 2.0\n",
    "C = 1.0\n",
    "D = 0.0\n",
    "\n",
    "sys1 = signal.StateSpace(A, B, C, D)\n",
    "t1, y1 = signal.step(sys1)\n",
    "\n",
    "plt.plot(t1, y1)"
   ]
  },
  {
   "cell_type": "markdown",
   "metadata": {},
   "source": [
    "### First order differential equations"
   ]
  },
  {
   "cell_type": "markdown",
   "metadata": {},
   "source": [
    "$$\n",
    "\\begin{align}\n",
    "2 \\frac{dx_1}{dt} + 6x_1 &= 8u \\\\\n",
    "3 \\frac{dx_2}{dt} + 6x_1 + 9 x_2 &= 0 \\\\\n",
    "y &= \\frac{x_1 + x_2}{2}\n",
    "\\end{align}\n",
    "$$"
   ]
  },
  {
   "cell_type": "markdown",
   "metadata": {},
   "source": [
    "It can be rearranged as\n",
    "$$\n",
    "\\begin{align}\n",
    "\\frac{dx_1}{dt} &= -3x_1 & + 4u \\\\\n",
    "\\frac{dx_2}{dt} &= -2x_1 -3x_2 \\\\\n",
    "y &= \\frac{x_1 + x_2}{2}\n",
    "\\end{align}\n",
    "$$\n"
   ]
  },
  {
   "cell_type": "code",
   "execution_count": null,
   "metadata": {
    "collapsed": true
   },
   "outputs": [],
   "source": []
  }
 ],
 "metadata": {
  "kernelspec": {
   "display_name": "Python 3",
   "language": "python",
   "name": "python3"
  },
  "language_info": {
   "codemirror_mode": {
    "name": "ipython",
    "version": 3
   },
   "file_extension": ".py",
   "mimetype": "text/x-python",
   "name": "python",
   "nbconvert_exporter": "python",
   "pygments_lexer": "ipython3",
   "version": "3.6.1"
  }
 },
 "nbformat": 4,
 "nbformat_minor": 2
}
