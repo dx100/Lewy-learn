{
 "cells": [
  {
   "cell_type": "markdown",
   "metadata": {},
   "source": [
    "# State Space Model"
   ]
  },
  {
   "cell_type": "markdown",
   "metadata": {},
   "source": [
    "This is based on [YouTube Video (APMonitor)](https://www.youtube.com/watch?v=AmYWJnPnjY8)"
   ]
  },
  {
   "cell_type": "markdown",
   "metadata": {},
   "source": [
    "## General form\n",
    "The general form of the problem is \n",
    "$$\n",
    "\\begin{align}\n",
    "\\frac{dx}{dt} &= Ax + Bu \\\\\n",
    "y & = Cx + Du\n",
    "\\end{align}\n",
    "$$\n",
    "where x are the state variables and y is the output"
   ]
  },
  {
   "cell_type": "markdown",
   "metadata": {},
   "source": [
    "### First order differential equation"
   ]
  },
  {
   "cell_type": "markdown",
   "metadata": {},
   "source": [
    "$$\n",
    "\\begin{align}\n",
    "3\\frac{dx}{dt} + 12 x &= 6 u \\\\\n",
    "y &= x\n",
    "\\end{align}\n",
    "$$"
   ]
  },
  {
   "cell_type": "markdown",
   "metadata": {},
   "source": [
    "It can be reorganised as\n",
    "$$\n",
    "\\begin{align}\n",
    "\\frac{dx}{dt} &= -4x + 2u \\\\\n",
    "y &= x\n",
    "\\end{align}\n",
    "$$\n",
    "Therefore, we have:"
   ]
  },
  {
   "cell_type": "code",
   "execution_count": 1,
   "metadata": {
    "collapsed": true
   },
   "outputs": [],
   "source": [
    "import numpy as np\n",
    "from scipy import signal\n",
    "import matplotlib.pyplot as plt\n",
    "%matplotlib inline"
   ]
  },
  {
   "cell_type": "code",
   "execution_count": 2,
   "metadata": {
    "scrolled": true
   },
   "outputs": [
    {
     "data": {
      "text/plain": [
       "[<matplotlib.lines.Line2D at 0x1a0e2f92630>]"
      ]
     },
     "execution_count": 2,
     "metadata": {},
     "output_type": "execute_result"
    },
    {
     "data": {
      "image/png": "[encoded data removed]",
      "text/plain": [
       "<matplotlib.figure.Figure at 0x1a0e31a6ef0>"
      ]
     },
     "metadata": {},
     "output_type": "display_data"
    }
   ],
   "source": [
    "# problem 1\n",
    "A = -4.0\n",
    "B = 2.0\n",
    "C = 1.0\n",
    "D = 0.0\n",
    "\n",
    "sys1 = signal.StateSpace(A, B, C, D)\n",
    "t1, y1 = signal.step(sys1)\n",
    "\n",
    "plt.plot(t1, y1)"
   ]
  },
  {
   "cell_type": "markdown",
   "metadata": {},
   "source": [
    "### First order differential equations"
   ]
  },
  {
   "cell_type": "markdown",
   "metadata": {},
   "source": [
    "$$\n",
    "\\begin{align}\n",
    "2 \\frac{dx_1}{dt} + 6x_1 &= 8u \\\\\n",
    "3 \\frac{dx_2}{dt} + 6x_1 + 9 x_2 &= 0 \\\\\n",
    "y &= \\frac{x_1 + x_2}{2}\n",
    "\\end{align}\n",
    "$$"
   ]
  },
  {
   "cell_type": "markdown",
   "metadata": {},
   "source": [
    "It can be rearranged as\n",
    "$$\n",
    "\\begin{align}\n",
    "\\frac{dx_1}{dt} &= -3x_1 & + 4u \\\\\n",
    "\\frac{dx_2}{dt} &= -2x_1 -3x_2 \\\\\n",
    "y &= \\frac{x_1 + x_2}{2}\n",
    "\\end{align}\n",
    "$$\n"
   ]
  },
  {
   "cell_type": "code",
   "execution_count": 10,
   "metadata": {},
   "outputs": [
    {
     "name": "stdout",
     "output_type": "stream",
     "text": [
      "[-3. -3.]\n"
     ]
    },
    {
     "data": {
      "text/plain": [
       "[<matplotlib.lines.Line2D at 0x1a0e65819b0>]"
      ]
     },
     "execution_count": 10,
     "metadata": {},
     "output_type": "execute_result"
    },
    {
     "data": {
      "image/png": "[encoded data removed]",
      "text/plain": [
       "<matplotlib.figure.Figure at 0x1a0e5f51550>"
      ]
     },
     "metadata": {},
     "output_type": "display_data"
    }
   ],
   "source": [
    "# Problem 2\n",
    "A = [[-3.0, 0],[-2.0, -3.0]]\n",
    "B = [[4.0],[0.0]]\n",
    "C = [0.5, 0.5]\n",
    "D = [0.0]\n",
    "\n",
    "print(np.linalg.eig(A)[0])\n",
    "sys2 = signal.StateSpace(A, B, C, D)\n",
    "t2, y2 = signal.step(sys2)\n",
    "\n",
    "plt.plot(t2, y2)"
   ]
  },
  {
   "cell_type": "markdown",
   "metadata": {},
   "source": [
    "### Second order differential equation"
   ]
  },
  {
   "cell_type": "markdown",
   "metadata": {},
   "source": [
    "Consider:\n",
    "$$\n",
    "\\begin{align}\n",
    "4 \\frac{d^2y}{dt^2} + 2 \\frac{dy}{dt} + y = 3u\n",
    "\\end{align}\n",
    "$$\n",
    "Let\n",
    "$$\n",
    "\\begin{align}\n",
    "x_1 &= y \\\\\n",
    "x_2 &= \\frac{dy}{dt} = \\frac{dx_1}{dt}\n",
    "\\end{align}\n",
    "$$\n",
    "We have:\n",
    "$$\n",
    "\\begin{align}\n",
    "\\frac{dx_1}{dt} &= x_2 \\\\\n",
    "\\frac{dx_2}{dt} &= -\\frac{x_1}{4} - \\frac{x_2}{2} + \\frac{3u}{4} \\\\\n",
    "y &= x_1 \n",
    "\\end{align}\n",
    "$$"
   ]
  },
  {
   "cell_type": "code",
   "execution_count": 11,
   "metadata": {},
   "outputs": [
    {
     "name": "stdout",
     "output_type": "stream",
     "text": [
      "[-0.25+0.4330127j -0.25-0.4330127j]\n"
     ]
    },
    {
     "data": {
      "text/plain": [
       "[<matplotlib.lines.Line2D at 0x1a0e684f5c0>]"
      ]
     },
     "execution_count": 11,
     "metadata": {},
     "output_type": "execute_result"
    },
    {
     "data": {
      "image/png": "[encoded data removed]",
      "text/plain": [
       "<matplotlib.figure.Figure at 0x1a0e6547080>"
      ]
     },
     "metadata": {},
     "output_type": "display_data"
    }
   ],
   "source": [
    "A = [[0.0, 1.0],[-0.25, -0.5]]\n",
    "B = [[0.0],[0.75]]\n",
    "C = [1.0, 0.0]\n",
    "D = [0.0]\n",
    "\n",
    "print(np.linalg.eig(A)[0])\n",
    "sys3 = signal.StateSpace(A, B, C, D)\n",
    "t3, y3 = signal.step(sys3)\n",
    "\n",
    "plt.plot(t3, y3)"
   ]
  },
  {
   "cell_type": "code",
   "execution_count": null,
   "metadata": {
    "collapsed": true
   },
   "outputs": [],
   "source": []
  }
 ],
 "metadata": {
  "kernelspec": {
   "display_name": "Python [conda env:python3]",
   "language": "python",
   "name": "conda-env-python3-py"
  },
  "language_info": {
   "codemirror_mode": {
    "name": "ipython",
    "version": 3
   },
   "file_extension": ".py",
   "mimetype": "text/x-python",
   "name": "python",
   "nbconvert_exporter": "python",
   "pygments_lexer": "ipython3",
   "version": "3.6.1"
  }
 },
 "nbformat": 4,
 "nbformat_minor": 2
}
