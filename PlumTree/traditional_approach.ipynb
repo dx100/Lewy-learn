{
 "cells": [
  {
   "cell_type": "markdown",
   "metadata": {},
   "source": [
    "This is the implementation for the Traditional approach of the [plum-tree](http://localhost:8888/notebooks/PlumTree/plum-tree.ipynb#)"
   ]
  },
  {
   "cell_type": "code",
   "execution_count": 1,
   "metadata": {
    "collapsed": true
   },
   "outputs": [],
   "source": [
    "import numpy as np\n",
    "import pandas as pd\n",
    "from scipy import linalg as la"
   ]
  },
  {
   "cell_type": "code",
   "execution_count": 2,
   "metadata": {
    "collapsed": true
   },
   "outputs": [],
   "source": [
    "def dx_cal(X, f1, f2):\n",
    "    P, R, G = X.T[0]\n",
    "    M = G - 6\n",
    "    N = R + 0.35 * M * f1\n",
    "    \n",
    "    P1 = P + 3 - f2 * N\n",
    "    R1 = (1 - f2) * N\n",
    "    G1 = P + 3 - N\n",
    "    \n",
    "    return np.array([[P1], [R1], [G1]])"
   ]
  },
  {
   "cell_type": "code",
   "execution_count": 3,
   "metadata": {},
   "outputs": [],
   "source": [
    "F = np.array([[1, 0.8],   # Day0, The farmer's day -- has infection at the beginning, farmer dis-infects it at the end of the day.\n",
    "              [0, 0],      # for Day 1, after the farmer's dis-infection\n",
    "              [0, 0],      # Day2, no infection of the rotten disease\n",
    "              [1, 0],      # Day3, infection starts\n",
    "              [1, 0.75]])  # Day4, which effectively returns to Day0. The whole procedure returns to itself, using the\n",
    "                           # remainder i.e. Day_index%4.\n",
    "\n",
    "# Create a Panda Frame for the result\n",
    "Results = pd.DataFrame(columns = ('P_total','Rotten', 'Good'), dtype=int)\n",
    "Results.index.name = \"Day\"\n",
    "Results.loc[0] = np.array([100, 3, 97])    # Day0 values, the initial value, M and N doesn't matter, so give them 0\n",
    "for k in range(50):\n",
    "    day_idx = k + 1;\n",
    "    X_k = np.array([Results.loc[k]]).T.astype(float)   \n",
    "    tmp = day_idx % 4 \n",
    "    X_k1 = dx_cal(X_k, F[tmp,0], F[tmp,1])\n",
    "    Results.loc[day_idx] = np.rint(X_k1.T[0])"
   ]
  },
  {
   "cell_type": "code",
   "execution_count": 4,
   "metadata": {},
   "outputs": [
    {
     "name": "stdout",
     "output_type": "stream",
     "text": [
      "    P_total Rotten Good\n",
      "Day                    \n",
      "0       100      3   97\n",
      "1       103      3  100\n",
      "2       106      3  103\n",
      "3       109     37   72\n",
      "4        64     12   52\n",
      "5        67     12   55\n",
      "6        70     12   58\n",
      "7        73     30   43\n",
      "8        42      9   33\n",
      "9        45      9   36\n",
      "10       48      9   39\n",
      "11       51     21   30\n",
      "12       30      6   25\n",
      "13       33      6   27\n",
      "14       36      6   30\n",
      "15       39     14   25\n",
      "16       25      4   21\n",
      "17       28      4   24\n",
      "18       31      4   27\n",
      "19       34     11   23\n",
      "20       23      3   20\n",
      "21       26      3   23\n",
      "22       29      3   26\n",
      "23       32     10   22\n",
      "24       23      3   19\n",
      "25       26      3   23\n",
      "26       29      3   26\n",
      "27       32     10   22\n",
      "28       23      3   19\n",
      "29       26      3   23\n",
      "30       29      3   26\n",
      "31       32     10   22\n",
      "32       23      3   19\n",
      "33       26      3   23\n",
      "34       29      3   26\n",
      "35       32     10   22\n",
      "36       23      3   19\n",
      "37       26      3   23\n",
      "38       29      3   26\n",
      "39       32     10   22\n",
      "40       23      3   19\n",
      "41       26      3   23\n",
      "42       29      3   26\n",
      "43       32     10   22\n",
      "44       23      3   19\n",
      "45       26      3   23\n",
      "46       29      3   26\n",
      "47       32     10   22\n",
      "48       23      3   19\n",
      "49       26      3   23\n",
      "50       29      3   26\n"
     ]
    }
   ],
   "source": [
    "print(Results)"
   ]
  },
  {
   "cell_type": "code",
   "execution_count": null,
   "metadata": {
    "collapsed": true
   },
   "outputs": [],
   "source": []
  }
 ],
 "metadata": {
  "kernelspec": {
   "display_name": "Python [conda env:python3]",
   "language": "python",
   "name": "conda-env-python3-py"
  },
  "language_info": {
   "codemirror_mode": {
    "name": "ipython",
    "version": 3
   },
   "file_extension": ".py",
   "mimetype": "text/x-python",
   "name": "python",
   "nbconvert_exporter": "python",
   "pygments_lexer": "ipython3",
   "version": "3.6.1"
  }
 },
 "nbformat": 4,
 "nbformat_minor": 2
}
