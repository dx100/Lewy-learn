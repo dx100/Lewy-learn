{
 "cells": [
  {
   "cell_type": "markdown",
   "metadata": {},
   "source": [
    "# The problem"
   ]
  },
  {
   "cell_type": "markdown",
   "metadata": {},
   "source": [
    "There are 100 fresh plums on a plum tree including 3 rotten ones. Every day, each plum has a 35% chance of rotting, if they are over 2 days old. Every day, 3 fresh plums grow. The farmer comes and takes 75% of the rotten plums every 4 days, stopping the rot by 2 days. After 2 weeks:\n",
    "1. How many fresh plums are there?\n",
    "2. How many rotten plums are still on the tree?\n",
    "3. How many total plums are there?\n",
    "4. How many rotten plums did the farmer collect?\n",
    "5. How many rotten plums were there in total?"
   ]
  },
  {
   "cell_type": "markdown",
   "metadata": {},
   "source": [
    "# The representations"
   ]
  },
  {
   "cell_type": "markdown",
   "metadata": {},
   "source": [
    "Symbol | Notes\n",
    "---|------\n",
    "$D$ | Day\n",
    "$P$ | Total plums\n",
    "$M$ | Good plums > 2 days\n",
    "$R$ | Number of rotten plums\n",
    "$G$ | Number of good plums\n",
    "$f_1$ | Farmer factor-1,to activate the rotten procedure, $f_1 =\n",
    "\\left\\{\n",
    "    \\begin{array}{lll}\n",
    "        0  & \\quad \\mbox{if within} &\\mbox{2 days of farmer's picking} \\\\\n",
    "        1  & \\quad \\mbox{if after}  &\\mbox{2 days of farmer's picking} \n",
    "    \\end{array}\n",
    "\\right.$\n",
    "$f_2 $ | Farmer factor-2, to remove rotten plums, $f_2 =\n",
    "\\left\\{\n",
    "    \\begin{array}{ll}\n",
    "        0.75  & \\quad \\mbox{on Farmer's day} \\\\\n",
    "        0     & \\quad \\mbox{else where} \n",
    "    \\end{array}\n",
    "\\right.$\n",
    "$\\alpha$ |Lewy's fun factor for Greek"
   ]
  },
  {
   "cell_type": "markdown",
   "metadata": {
    "collapsed": false
   },
   "source": [
    "# Equations"
   ]
  },
  {
   "cell_type": "markdown",
   "metadata": {
    "collapsed": true
   },
   "source": [
    "\\begin{align}\n",
    "P^{k+1} & = P^k + 3 - f_2 * R^{k+1} \\\\\n",
    "M^{k+1} & = G^k -6 \\\\\n",
    "R^{k+1} & = (1 -f_2) \\times (R^k + 0.35 \\times M^k \\times f_1) \\\\\n",
    "G^{k+1} & = P^{k+1} - R^{k+1}\n",
    "\\end{align}\n",
    "    "
   ]
  },
  {
   "cell_type": "markdown",
   "metadata": {},
   "source": [
    "# Re-arranging the equation"
   ]
  },
  {
   "cell_type": "markdown",
   "metadata": {},
   "source": [
    "\\begin{align}\n",
    "P^{k+1} + f_2R^{k+1} &= P^k + 3 \\\\\n",
    "M^{k+1} &= G^k - 6 \\\\\n",
    "R^{k+1} &= (1-f_2)(R^k + 0.35 f_1 M^k) \\\\\n",
    "-P^{k+1} + R^{k+1} + G^{k+1} &= 0 \\\\\n",
    "\\end{align}"
   ]
  },
  {
   "cell_type": "markdown",
   "metadata": {},
   "source": [
    "Let $\\mathbf{X}$ be\n",
    "\\begin{equation}\n",
    "\\mathbf{X} = \\begin{bmatrix}\n",
    "P\\\\\n",
    "M \\\\\n",
    "R \\\\\n",
    "G\n",
    "\\end{bmatrix}\n",
    "\\end{equation}\n"
   ]
  },
  {
   "cell_type": "markdown",
   "metadata": {},
   "source": [
    "\\begin{equation}\n",
    "\\begin{bmatrix} \n",
    "1 & 0 & f_2 & 0 \\\\\n",
    "0 & 1 & 0 & 0\\\\\n",
    "0 & 0 & 1 & 0 \\\\\n",
    "-1 & 0 & 1 & 1\n",
    "\\end{bmatrix} \n",
    "\\begin{bmatrix}\n",
    "P\\\\\n",
    "M \\\\\n",
    "R \\\\\n",
    "G\n",
    "\\end{bmatrix}^{k+1} = \n",
    "\\begin{bmatrix} \n",
    "1 & 0 & 0 & 0 \\\\\n",
    "0 & 0 & 0 & 1\\\\\n",
    "0 & (1-f_2)f_1 & (1-f_2) & 0 \\\\\n",
    "0 & 0 & 0 & 0\n",
    "\\end{bmatrix}\n",
    "\\begin{bmatrix}\n",
    "P\\\\\n",
    "M \\\\\n",
    "R \\\\\n",
    "G\n",
    "\\end{bmatrix}^k\n",
    "+\n",
    "\\left[\n",
    "\\begin{array}{r}\n",
    "3\\\\\n",
    "-6 \\\\\n",
    "0 \\\\\n",
    "0\n",
    "\\end{array}\n",
    "\\right]\n",
    "\\end{equation}"
   ]
  },
  {
   "cell_type": "markdown",
   "metadata": {},
   "source": [
    "\\begin{equation}\n",
    "W_1 \\mathbf{X}^{k+1} = W_2 \\mathbf{X}^k + B\n",
    "\\end{equation}"
   ]
  },
  {
   "cell_type": "markdown",
   "metadata": {},
   "source": [
    "\\begin{equation}\n",
    "\\begin{array}{}\n",
    "W_1 = \\begin{bmatrix} \n",
    "1 & 0 & f_2 & 0 \\\\\n",
    "0 & 1 & 0 & 0\\\\\n",
    "0 & 0 & 1 & 0 \\\\\n",
    "-1 & 0 & 1 & 1\n",
    "\\end{bmatrix} \n",
    ",&\n",
    "W_2 = \\begin{bmatrix} \n",
    "1 & 0 & 0 & 0 \\\\\n",
    "0 & 0 & 0 & 1\\\\\n",
    "0 & (1-f_2)f_1 & (1-f_2) & 0 \\\\\n",
    "0 & 0 & 0 & 0\n",
    "\\end{bmatrix},\n",
    "&\n",
    "B = \\left[\n",
    "\\begin{array}{r}\n",
    "3\\\\\n",
    "-6 \\\\\n",
    "0 \\\\\n",
    "0\n",
    "\\end{array}\n",
    "\\right]\n",
    "\\end{array}\n",
    "\\end{equation}"
   ]
  },
  {
   "cell_type": "markdown",
   "metadata": {},
   "source": []
  },
  {
   "cell_type": "markdown",
   "metadata": {},
   "source": [
    "\\begin{equation*}\n",
    "\\mathbf{V}_1 \\times \\mathbf{V}_2 =  \\begin{vmatrix}\n",
    "\\mathbf{i} & \\mathbf{j} & \\mathbf{k} \\\\\n",
    "\\frac{\\partial X}{\\partial u} &  \\frac{\\partial Y}{\\partial u} & 0 \\\\\n",
    "\\frac{\\partial X}{\\partial v} &  \\frac{\\partial Y}{\\partial v} & 0\n",
    "\\end{vmatrix}\n",
    "\\end{equation*}"
   ]
  },
  {
   "cell_type": "markdown",
   "metadata": {},
   "source": []
  },
  {
   "cell_type": "markdown",
   "metadata": {},
   "source": [
    "\\begin{align}\n",
    "a^2-b^2 &=(a+b)(a-b)\\\\\n",
    "a^2+2ab+b^2 &= (a+b)^2\\\\\n",
    "(a-b)^2 &=a^2-2ab+b^2\n",
    "\\end{align}"
   ]
  },
  {
   "cell_type": "markdown",
   "metadata": {},
   "source": [
    "$$(a-b)^2=a^2-2ab+b^2$$"
   ]
  },
  {
   "cell_type": "markdown",
   "metadata": {},
   "source": [
    "$$a^2+b^2=c^2$$  "
   ]
  },
  {
   "cell_type": "code",
   "execution_count": 3,
   "metadata": {
    "collapsed": true
   },
   "outputs": [],
   "source": [
    "import numpy as np\n",
    "import scipy as sp\n"
   ]
  }
 ],
 "metadata": {
  "kernelspec": {
   "display_name": "Python [conda root]",
   "language": "python",
   "name": "conda-root-py"
  },
  "language_info": {
   "codemirror_mode": {
    "name": "ipython",
    "version": 2
   },
   "file_extension": ".py",
   "mimetype": "text/x-python",
   "name": "python",
   "nbconvert_exporter": "python",
   "pygments_lexer": "ipython2",
   "version": "2.7.13"
  }
 },
 "nbformat": 4,
 "nbformat_minor": 2
}
