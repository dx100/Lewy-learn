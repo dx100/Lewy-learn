{
 "cells": [
  {
   "cell_type": "markdown",
   "metadata": {},
   "source": [
    "# The problem"
   ]
  },
  {
   "cell_type": "markdown",
   "metadata": {},
   "source": [
    "There are 100 fresh plums on a plum tree including 3 rotten ones. Every day, each plum has a 35% chance of rotting, if they are over 2 days old. Every day, 3 fresh plums grow. The farmer comes and takes 75% of the rotten plums every 4 days, stopping the rot by 2 days. After 2 weeks:\n",
    "1. How many fresh plums are there?\n",
    "2. How many rotten plums are still on the tree?\n",
    "3. How many total plums are there?\n",
    "4. How many rotten plums did the farmer collect?\n",
    "5. How many rotten plums were there in total?"
   ]
  },
  {
   "cell_type": "markdown",
   "metadata": {},
   "source": [
    "# The representations"
   ]
  },
  {
   "cell_type": "markdown",
   "metadata": {},
   "source": [
    "## Observable Variables"
   ]
  },
  {
   "cell_type": "markdown",
   "metadata": {},
   "source": [
    "\n",
    "Symbol | Notes\n",
    ":---:|:------\n",
    "$D$ | Day\n",
    "$P$ | Total plums\n",
    "$R$ | Number of rotten plums\n",
    "$G$ | Number of good plums\n",
    "\n"
   ]
  },
  {
   "cell_type": "markdown",
   "metadata": {},
   "source": [
    "## Hidden Variables and Parameters"
   ]
  },
  {
   "cell_type": "markdown",
   "metadata": {},
   "source": [
    "Consider Day 0 is equivlent to a farmer's picking, i.e. there will be no infection on Day 1 and 2."
   ]
  },
  {
   "cell_type": "markdown",
   "metadata": {},
   "source": [
    "Symbol | Notes\n",
    ":---:|:------\n",
    "$M$ | Number of plums subjected to the rotting diseases, i.e. good plums > 2 days\n",
    "$N$ | Temporary variable ($N=R + r_1 * M * f_1$), representing the number of diseased plums.\n",
    "$Q$ | The number of new plums per day. In Lewy's statement, $Q=3$\n",
    "$r_1$ | The probability of disease infection. $r_1 = 0.35$\n",
    "$f_1$ | Farmer factor-1,to activate the rotting infection, $f_1 =\\left\\{\n",
    "    \\begin{array}{lll}\n",
    "        0  & \\quad \\mbox{for day 1 & 2 after farmer's dis-infection day} \\\\\n",
    "        1  & \\quad \\mbox{for other days} \n",
    "    \\end{array}\n",
    "\\right.$\n",
    "$f_2 $ | Farmer factor-2, to remove rotten plums, $f_2 =\n",
    "\\left\\{\n",
    "    \\begin{array}{ll}\n",
    "        r_2  & \\quad \\mbox{on Farmer's dis-infection day. } r_2 = 0.75\\\\\n",
    "        0     & \\quad \\mbox{else where} \n",
    "    \\end{array}\n",
    "\\right.$\n"
   ]
  },
  {
   "cell_type": "markdown",
   "metadata": {},
   "source": [
    "# Equations"
   ]
  },
  {
   "cell_type": "markdown",
   "metadata": {
    "collapsed": true
   },
   "source": [
    "Let $k$ be the day index\n",
    "\n",
    "\\begin{align}\n",
    "P^{k+1} & = P^k + Q - f_2 * N \\\\\n",
    "R^{k+1} & = (1 -f_2) * N \\\\\n",
    "G^{k+1} & = P^k + Q - N \\\\\n",
    "-- &- -------- \\\\\n",
    "M & = G^k -2*Q \\\\\n",
    "N & = R^k + 0.35 * M * f_1\\\\\n",
    "\\\\\n",
    "\\end{align}\n",
    "Note, previously, the 3rd equation is $G^{k+1} = P^{k+1} - R^{k+1}$. Combining eq[1] and eq[2] together, we have \n",
    "\n",
    "\\begin{eqnarray}\n",
    "\\\\\n",
    "G^{k+1} &= & P^{k+1} - R^{k+1} \\\\\n",
    "        &= & (P^k + Q - f_2 * N) - (1-f_2) * N \\\\\n",
    "        &= & P^k + Q - f_2 * N - N + f_2 * N \\\\\n",
    "        &= & P^k + Q - N\n",
    "\\end{eqnarray}\n",
    "\n",
    "Hence, the new eq[3]"
   ]
  },
  {
   "cell_type": "markdown",
   "metadata": {},
   "source": [
    "# Solve the equations"
   ]
  },
  {
   "cell_type": "markdown",
   "metadata": {},
   "source": [
    "From here, there are two approaches to solve those equations -- brutal force, or traditional approach (which is conceptually simple)"
   ]
  },
  {
   "cell_type": "markdown",
   "metadata": {},
   "source": [
    "## Brutal force"
   ]
  },
  {
   "cell_type": "markdown",
   "metadata": {},
   "source": [
    "We treat $M$ and $N$ as $M^{k+1}$ and $N^{k+1}$ for the $k+1$ day"
   ]
  },
  {
   "cell_type": "markdown",
   "metadata": {},
   "source": [
    "\\begin{align}\n",
    "P^{k+1} + f_2 * N^{k+1} &= P^k + Q \\\\\n",
    "R^{k+1} - (1-f_2)*N^{k+1} &= 0 \\\\\n",
    "G^{k+1} + N^{k+1} &= P^k + Q \\\\\n",
    "------- &- --- \\\\\n",
    "M^{k+1} &= G^k - 2*Q \\\\\n",
    "-0.35 * f_1 * M^{k+1} + N^{k+1} &= R^k \\\\\n",
    "\\end{align}"
   ]
  },
  {
   "cell_type": "markdown",
   "metadata": {},
   "source": [
    "Let $\\mathbf{X}$ be \n",
    "$$\\mathbf{X} = \\begin{bmatrix}\n",
    "P\\\\\n",
    "R \\\\\n",
    "G \\\\\n",
    "--\\\\\n",
    "M \\\\\n",
    "N \\\\\n",
    "\\end{bmatrix}\n",
    "$$\n"
   ]
  },
  {
   "cell_type": "markdown",
   "metadata": {},
   "source": [
    "\\begin{equation}\n",
    "\\begin{bmatrix} \n",
    "1 & 0 & 0 & 0 & f_2 \\\\\n",
    "0 & 1 & 0 & 0 & -(1-f_2)\\\\\n",
    "0 & 0 & 1 & 0 & 1 \\\\\n",
    "0 & 0 & 0 & 1 & 0 \\\\\n",
    "0 & 0 & 0 & -0.35 * f_1 & 1\n",
    "\\end{bmatrix} \n",
    "\\begin{bmatrix}\n",
    "P\\\\\n",
    "R \\\\\n",
    "G \\\\\n",
    "M \\\\\n",
    "N\n",
    "\\end{bmatrix}^{k+1} = \n",
    "\\begin{bmatrix} \n",
    "1 & 0 & 0 & 0 & 0 \\\\\n",
    "0 & 0 & 0 & 0 & 0 \\\\\n",
    "1 & 0 & 0 & 0 & 0 \\\\\n",
    "0 & 0 & 1 & 0 & 0 \\\\\n",
    "0 & 1 & 0 & 0 & 0\n",
    "\\end{bmatrix}\n",
    "\\begin{bmatrix}\n",
    "P\\\\\n",
    "R \\\\\n",
    "G \\\\\n",
    "M \\\\\n",
    "N\n",
    "\\end{bmatrix}^k\n",
    "+\n",
    "\\left[\n",
    "\\begin{array}{r}\n",
    "Q\\\\\n",
    "0 \\\\\n",
    "Q \\\\\n",
    "-2*Q\\\\\n",
    "0\n",
    "\\end{array}\n",
    "\\right]\n",
    "\\end{equation}"
   ]
  },
  {
   "cell_type": "markdown",
   "metadata": {},
   "source": [
    "We then have \n",
    "\\begin{equation}\n",
    "W_1 \\mathbf{X}^{k+1} = W_2 \\mathbf{X}^k + B\n",
    "\\end{equation}"
   ]
  },
  {
   "cell_type": "markdown",
   "metadata": {},
   "source": [
    "where\n",
    "\\begin{equation}\n",
    "\\begin{array}{}\n",
    "W_1 = \\begin{bmatrix} \n",
    "1 & 0 & 0 & 0 & f_2 \\\\\n",
    "0 & 1 & 0 & 0 & -(1-f_2) \\\\\n",
    "0 & 0 & 1 & 0 & 1 \\\\\n",
    "0 & 0 & 0 & 1 & 0 \\\\\n",
    "0 & 0 & 0 & -0.35*f_1 & 1\n",
    "\\end{bmatrix} \n",
    ",&\n",
    "W_2 = \\begin{bmatrix} \n",
    "1 & 0 & 0 & 0 & 0 \\\\\n",
    "0 & 0 & 0 & 0 & 0 \\\\\n",
    "1 & 0 & 0 & 0 & 0 \\\\\n",
    "0 & 0 & 1 & 0 & 0 \\\\\n",
    "0 & 1 & 0 & 0 & 0\n",
    "\\end{bmatrix},\n",
    "&\n",
    "B = \\left[\n",
    "\\begin{array}{r}\n",
    "Q \\\\\n",
    "0 \\\\\n",
    "Q \\\\\n",
    "-2*Q \\\\\n",
    "0\n",
    "\\end{array}\n",
    "\\right]\n",
    "\\end{array}\n",
    "\\end{equation}"
   ]
  },
  {
   "cell_type": "markdown",
   "metadata": {},
   "source": [
    "[Here](/notebooks/PlumTree/brutal_force.ipynb) is the code to implemente the Brutal Force solution."
   ]
  },
  {
   "cell_type": "markdown",
   "metadata": {
    "collapsed": true
   },
   "source": [
    "## Triditional approach"
   ]
  },
  {
   "cell_type": "markdown",
   "metadata": {},
   "source": [
    "[Here](/notebooks/PlumTree/traditional_approach.ipynb) is the code"
   ]
  },
  {
   "cell_type": "markdown",
   "metadata": {
    "collapsed": true
   },
   "source": [
    "## Dynamical System"
   ]
  },
  {
   "cell_type": "markdown",
   "metadata": {},
   "source": [
    "\\begin{eqnarray}\n",
    "P^{k+1} & = &P^k& -f_2 R^k& - r_1 f_1 f_2 G^k + (2r_1 f_1 f_2 + 1) Q \\\\\n",
    "R^{k+1} & = & &(1-f_2) R^k& + r_1 f_1 (1-f_2) G^k - 2r_1 f_1 (1-f_2) Q \\\\\n",
    "G^{k+1} & = &P^k& -R^k& -r_1 f_1 G^k + (1 - 2r_1 f_1) Q \\\\\n",
    "\\end{eqnarray}"
   ]
  },
  {
   "cell_type": "markdown",
   "metadata": {},
   "source": [
    "In Matrix form\n",
    "\\begin{equation}\n",
    "\\begin{bmatrix}\n",
    "P\\\\\n",
    "R \\\\\n",
    "G\n",
    "\\end{bmatrix}^{k+1} = \n",
    "\\begin{bmatrix} \n",
    "1 & -f_2    & -r_1 f_1 f_2 \\\\\n",
    "0 & (1-f_2) & r_1 f_1 (1-f_2)\\\\\n",
    "1 & -1      & -r_1 f_1 \n",
    "\\end{bmatrix}\n",
    "\\begin{bmatrix}\n",
    "P\\\\\n",
    "R \\\\\n",
    "G \n",
    "\\end{bmatrix}^k\n",
    "+\n",
    "\\left[\n",
    "\\begin{array}{r}\n",
    "(2r_1 f_1 f_2 + 1) \\\\\n",
    "-2r_1 f_1 (1-f_2) \\\\\n",
    "(1-2r_1 f_1)\n",
    "\\end{array}\n",
    "\\right]\n",
    "Q\n",
    "\\end{equation}\n"
   ]
  },
  {
   "cell_type": "code",
   "execution_count": null,
   "metadata": {
    "collapsed": true
   },
   "outputs": [],
   "source": []
  }
 ],
 "metadata": {
  "kernelspec": {
   "display_name": "Python 2",
   "language": "python",
   "name": "python2"
  },
  "language_info": {
   "codemirror_mode": {
    "name": "ipython",
    "version": 2
   },
   "file_extension": ".py",
   "mimetype": "text/x-python",
   "name": "python",
   "nbconvert_exporter": "python",
   "pygments_lexer": "ipython2",
   "version": "2.7.13"
  }
 },
 "nbformat": 4,
 "nbformat_minor": 2
}
