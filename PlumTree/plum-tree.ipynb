{
 "cells": [
  {
   "cell_type": "markdown",
   "metadata": {},
   "source": [
    "# The problem"
   ]
  },
  {
   "cell_type": "markdown",
   "metadata": {},
   "source": [
    "There are 100 fresh plums on a plum tree including 3 rotten ones. Every day, each plum has a 35% chance of rotting, if they are over 2 days old. Every day, 3 fresh plums grow. The farmer comes and takes 75% of the rotten plums every 4 days, stopping the rot by 2 days. After 2 weeks:\n",
    "1. How many fresh plums are there?\n",
    "2. How many rotten plums are still on the tree?\n",
    "3. How many total plums are there?\n",
    "4. How many rotten plums did the farmer collect?\n",
    "5. How many rotten plums were there in total?"
   ]
  },
  {
   "cell_type": "markdown",
   "metadata": {},
   "source": [
    "# The representations"
   ]
  },
  {
   "cell_type": "markdown",
   "metadata": {},
   "source": [
    "## Observable Variables"
   ]
  },
  {
   "cell_type": "markdown",
   "metadata": {},
   "source": [
    "\n",
    "Symbol | Notes\n",
    ":---:|:------\n",
    "$D$ | Day\n",
    "$P$ | Total plums\n",
    "$R$ | Number of rotten plums\n",
    "$G$ | Number of good plums\n",
    "\n"
   ]
  },
  {
   "cell_type": "markdown",
   "metadata": {},
   "source": [
    "## Hidden Variables and Parameters"
   ]
  },
  {
   "cell_type": "markdown",
   "metadata": {},
   "source": [
    "Consider Day 0 is equivlent to a farmer's picking, i.e. there will be no infection on Day 1 and 2."
   ]
  },
  {
   "cell_type": "markdown",
   "metadata": {},
   "source": [
    "Symbol | Notes\n",
    ":---:|:------\n",
    "$M$ | Number of plums subjected to the rotting diseases, i.e. good plums > 2 days\n",
    "$N$ | Temporary variable ($N=R + 0.35 * M * f_1$)\n",
    "$f_1$ | Farmer factor-1,to activate the rotting infection, $f_1 =\n",
    "\\left\\{\n",
    "    \\begin{array}{lll}\n",
    "        0  & \\quad \\mbox{for day 1 & 2 after farmer's dis-infection day} \\\\\n",
    "        1  & \\quad \\mbox{for other days} \n",
    "    \\end{array}\n",
    "\\right.$\n",
    "$f_2 $ | Farmer factor-2, to remove rotten plums, $f_2 =\n",
    "\\left\\{\n",
    "    \\begin{array}{ll}\n",
    "        0.75  & \\quad \\mbox{on Farmer's dis-infection day} \\\\\n",
    "        0     & \\quad \\mbox{else where} \n",
    "    \\end{array}\n",
    "\\right.$\n"
   ]
  },
  {
   "cell_type": "markdown",
   "metadata": {},
   "source": [
    "# Equations"
   ]
  },
  {
   "cell_type": "markdown",
   "metadata": {
    "collapsed": true
   },
   "source": [
    "Let $k$ be the day index\n",
    "\\begin{align}\n",
    "P^{k+1} & = P^k + 3 - f_2 * N \\\\\n",
    "R^{k+1} & = (1 -f_2) * N \\\\\n",
    "G^{k+1} & = P^k + 3 - N \\\\\n",
    "-- &- -------- \\\\\n",
    "M & = G^k -6 \\\\\n",
    "N & = R^k + 0.35 * M * f_1\\\\\n",
    "\\\\\n",
    "\\end{align}\n",
    "Note, previously, the 3rd equation is $G^{k+1} = P^{k+1} - R^{k+1}$. Combining eq[1] and eq[2] together, we have \n",
    "\n",
    "\\begin{eqnarray}\n",
    "\\\\\n",
    "G^{k+1} &= & P^{k+1} - R^{k+1} \\\\\n",
    "        &= & (P^k + 3 - f_2 * N) - (1-f_2) * N \\\\\n",
    "        &= & P^k + 3 - f_2 * N - N + f_2 * N \\\\\n",
    "        &= & P^k + 3 - N\n",
    "\\end{eqnarray}\n",
    "\n",
    "Hence, the new eq[3]"
   ]
  },
  {
   "cell_type": "markdown",
   "metadata": {},
   "source": [
    "# Solve the equations"
   ]
  },
  {
   "cell_type": "markdown",
   "metadata": {},
   "source": [
    "From here, there are two approaches to solve those equations -- brutal force, or NN (which offers something intelligent)"
   ]
  },
  {
   "cell_type": "markdown",
   "metadata": {},
   "source": [
    "## Brutal force"
   ]
  },
  {
   "cell_type": "markdown",
   "metadata": {},
   "source": [
    "We treat $M$ and $N$ as $M^{k+1}$ and $N^{k+1}$ for the $k+1$ day"
   ]
  },
  {
   "cell_type": "markdown",
   "metadata": {},
   "source": [
    "\\begin{align}\n",
    "P^{k+1} + f_2 * N^{k+1} &= P^k + 3 \\\\\n",
    "R^{k+1} - (1-f_2)*N^{k+1} &= 0 \\\\\n",
    "G^{k+1} + N^{k+1} &= P^k + 3 \\\\\n",
    "------- &- --- \\\\\n",
    "M^{k+1} &= G^k - 6 \\\\\n",
    "-0.35 * f_1 * M^{k+1} + N^{k+1} &= R^k \\\\\n",
    "\\end{align}"
   ]
  },
  {
   "cell_type": "markdown",
   "metadata": {},
   "source": [
    "Let $\\mathbf{X}$ be \n",
    "$$\\mathbf{X} = \\begin{bmatrix}\n",
    "P\\\\\n",
    "R \\\\\n",
    "G \\\\\n",
    "--\\\\\n",
    "M \\\\\n",
    "N \\\\\n",
    "\\end{bmatrix}\n",
    "$$\n"
   ]
  },
  {
   "cell_type": "markdown",
   "metadata": {},
   "source": [
    "\\begin{equation}\n",
    "\\begin{bmatrix} \n",
    "1 & 0 & 0 & 0 & f_2 \\\\\n",
    "0 & 1 & 0 & 0 & -(1-f_2)\\\\\n",
    "0 & 0 & 1 & 0 & 1 \\\\\n",
    "0 & 0 & 0 & 1 & 0 \\\\\n",
    "0 & 0 & 0 & -0.35 * f_1 & 1\n",
    "\\end{bmatrix} \n",
    "\\begin{bmatrix}\n",
    "P\\\\\n",
    "R \\\\\n",
    "G \\\\\n",
    "M \\\\\n",
    "N\n",
    "\\end{bmatrix}^{k+1} = \n",
    "\\begin{bmatrix} \n",
    "1 & 0 & 0 & 0 & 0 \\\\\n",
    "0 & 0 & 0 & 0 & 0 \\\\\n",
    "1 & 0 & 0 & 0 & 0 \\\\\n",
    "0 & 0 & 1 & 0 & 0 \\\\\n",
    "0 & 1 & 0 & 0 & 0\n",
    "\\end{bmatrix}\n",
    "\\begin{bmatrix}\n",
    "P\\\\\n",
    "R \\\\\n",
    "G \\\\\n",
    "M \\\\\n",
    "N\n",
    "\\end{bmatrix}^k\n",
    "+\n",
    "\\left[\n",
    "\\begin{array}{r}\n",
    "3\\\\\n",
    "0 \\\\\n",
    "3 \\\\\n",
    "-6\\\\\n",
    "0\n",
    "\\end{array}\n",
    "\\right]\n",
    "\\end{equation}"
   ]
  },
  {
   "cell_type": "markdown",
   "metadata": {},
   "source": [
    "We then have \n",
    "\\begin{equation}\n",
    "W_1 \\mathbf{X}^{k+1} = W_2 \\mathbf{X}^k + B\n",
    "\\end{equation}"
   ]
  },
  {
   "cell_type": "markdown",
   "metadata": {},
   "source": [
    "where\n",
    "\\begin{equation}\n",
    "\\begin{array}{}\n",
    "W_1 = \\begin{bmatrix} \n",
    "1 & 0 & 0 & 0 & f_2 \\\\\n",
    "0 & 1 & 0 & 0 & -(1-f_2) \\\\\n",
    "0 & 0 & 1 & 0 & 1 \\\\\n",
    "0 & 0 & 0 & 1 & 0 \\\\\n",
    "0 & 0 & 0 & -0.35*f_1 & 1\n",
    "\\end{bmatrix} \n",
    ",&\n",
    "W_2 = \\begin{bmatrix} \n",
    "1 & 0 & 0 & 0 & 0 \\\\\n",
    "0 & 0 & 0 & 0 & 0 \\\\\n",
    "1 & 0 & 0 & 0 & 0 \\\\\n",
    "0 & 0 & 1 & 0 & 0 \\\\\n",
    "0 & 1 & 0 & 0 & 0\n",
    "\\end{bmatrix},\n",
    "&\n",
    "B = \\left[\n",
    "\\begin{array}{r}\n",
    "3 \\\\\n",
    "0 \\\\\n",
    "3 \\\\\n",
    "-6 \\\\\n",
    "0\n",
    "\\end{array}\n",
    "\\right]\n",
    "\\end{array}\n",
    "\\end{equation}"
   ]
  },
  {
   "cell_type": "code",
   "execution_count": 1,
   "metadata": {
    "collapsed": true
   },
   "outputs": [],
   "source": [
    "import numpy as np\n",
    "import scipy as sp\n"
   ]
  },
  {
   "cell_type": "markdown",
   "metadata": {},
   "source": [
    "## Define a function to do the calculation"
   ]
  },
  {
   "cell_type": "markdown",
   "metadata": {},
   "source": [
    "To calculate today's Y, based on parameters f1 and f2, and the values from the previous day."
   ]
  },
  {
   "cell_type": "code",
   "execution_count": 2,
   "metadata": {
    "collapsed": true
   },
   "outputs": [],
   "source": [
    "def dx_cal(X, f1, f2) :\n",
    "    W1 = np.array([[1,  0, 0, 0, f2],\n",
    "                   [0,  1, 0, 0, -(1-f2)],\n",
    "                   [0,  0, 1, 0, 1],\n",
    "                   [0,  0, 0, 1, 0],\n",
    "                   [0,  0, 0, -0.35*f1, 1]])\n",
    "\n",
    "    W2 = np.array([[1, 0, 0, 0, 0],\n",
    "                   [0, 0, 0, 0, 0],\n",
    "                   [1, 0, 0, 0, 0],\n",
    "                   [0, 0, 1, 0, 0],\n",
    "                   [0, 1, 0, 0, 0]])\n",
    "\n",
    "    B = np.array([[ 3, 0, 3,-6, 0]]).T\n",
    "    \n",
    "    W1_inv = np.linalg.inv(W1)\n",
    "    \n",
    "    Y = W1_inv.dot(W2.dot(X) + B)\n",
    "    return np.rint(Y)\n"
   ]
  },
  {
   "cell_type": "markdown",
   "metadata": {},
   "source": [
    "Now, I noticed that the crucial this is the values of f-factors. For now, I can create a lookup table\n"
   ]
  },
  {
   "cell_type": "code",
   "execution_count": 3,
   "metadata": {},
   "outputs": [],
   "source": [
    "F = np.array([[0, 0],      # for Day 1\n",
    "              [0, 0],      # Day2\n",
    "              [1, 0],      # Day3\n",
    "              [1, 0.75],   # Day4\n",
    "              [0, 0],      # Day5\n",
    "              [0, 0],\n",
    "              [1, 0],\n",
    "              [1, 0.75],\n",
    "              [0, 0],\n",
    "              [0, 0],\n",
    "              [1, 0],\n",
    "              [1, 0.75],\n",
    "              [0, 0],\n",
    "              [0, 0],\n",
    "              [1, 0],\n",
    "              [1, 0.75]])\n",
    "Results = np.array([[100, 3, 97, 0, 0 ]])    # Day0 values, the initial value, M and N doesn't matter, so give them 0\n",
    "for k in range(14):\n",
    "    X_k = np.array([Results[k]]).T\n",
    "    X_k1 = dx_cal(X_k, F[k,0], F[k,1])\n",
    "    Results = np.concatenate((Results, X_k1.T), axis=0)"
   ]
  },
  {
   "cell_type": "code",
   "execution_count": 4,
   "metadata": {},
   "outputs": [
    {
     "data": {
      "text/plain": [
       "array([[ 100.,    3.,   97.,    0.,    0.],\n",
       "       [ 103.,    3.,  100.,   91.,    3.],\n",
       "       [ 106.,    3.,  103.,   94.,    3.],\n",
       "       [ 109.,   37.,   72.,   97.,   37.],\n",
       "       [  67.,   15.,   52.,   66.,   60.],\n",
       "       [  70.,   15.,   55.,   46.,   15.],\n",
       "       [  73.,   15.,   58.,   49.,   15.],\n",
       "       [  76.,   33.,   43.,   52.,   33.],\n",
       "       [  45.,   11.,   33.,   37.,   46.],\n",
       "       [  48.,   11.,   37.,   27.,   11.],\n",
       "       [  51.,   11.,   40.,   31.,   11.],\n",
       "       [  54.,   23.,   31.,   34.,   23.],\n",
       "       [  33.,    8.,   25.,   25.,   32.],\n",
       "       [  36.,    8.,   28.,   19.,    8.],\n",
       "       [  39.,    8.,   31.,   22.,    8.]])"
      ]
     },
     "execution_count": 4,
     "metadata": {},
     "output_type": "execute_result"
    }
   ],
   "source": [
    "Results"
   ]
  }
 ],
 "metadata": {
  "kernelspec": {
   "display_name": "Python [conda root]",
   "language": "python",
   "name": "conda-root-py"
  },
  "language_info": {
   "codemirror_mode": {
    "name": "ipython",
    "version": 2
   },
   "file_extension": ".py",
   "mimetype": "text/x-python",
   "name": "python",
   "nbconvert_exporter": "python",
   "pygments_lexer": "ipython2",
   "version": "2.7.13"
  }
 },
 "nbformat": 4,
 "nbformat_minor": 2
}
