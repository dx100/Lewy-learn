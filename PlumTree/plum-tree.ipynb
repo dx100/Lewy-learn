{
 "cells": [
  {
   "cell_type": "markdown",
   "metadata": {},
   "source": [
    "# The problem"
   ]
  },
  {
   "cell_type": "markdown",
   "metadata": {},
   "source": [
    "There are 100 fresh plums on a plum tree including 3 rotten ones. Every day, each plum has a 35% chance of rotting, if they are over 2 days old. Every day, 3 fresh plums grow. The farmer comes and takes 75% of the rotten plums every 4 days, stopping the rot by 2 days. After 2 weeks:\n",
    "1. How many fresh plums are there?\n",
    "2. How many rotten plums are still on the tree?\n",
    "3. How many total plums are there?\n",
    "4. How many rotten plums did the farmer collect?\n",
    "5. How many rotten plums were there in total?"
   ]
  },
  {
   "cell_type": "markdown",
   "metadata": {},
   "source": [
    "# The representations"
   ]
  },
  {
   "cell_type": "markdown",
   "metadata": {},
   "source": [
    "## Observable Variables"
   ]
  },
  {
   "cell_type": "markdown",
   "metadata": {},
   "source": [
    "\n",
    "Symbol | Notes\n",
    ":---:|:------\n",
    "$D$ | Day\n",
    "$P$ | Total plums\n",
    "$R$ | Number of rotten plums\n",
    "$G$ | Number of good plums\n",
    "\n"
   ]
  },
  {
   "cell_type": "markdown",
   "metadata": {},
   "source": [
    "## Hidden Variables and Parameters"
   ]
  },
  {
   "cell_type": "markdown",
   "metadata": {},
   "source": [
    "Symbol | Notes\n",
    ":---:|:------\n",
    "$M$ | Number of plums subjected to the rotting diseases, i.e. good plums > 2 days\n",
    "$N$ | Temporary variable ($N=R + 0.35 * M * f_1$)\n",
    "$f_1$ | Farmer factor-1,to activate the rotten procedure, $f_1 =\n",
    "\\left\\{\n",
    "    \\begin{array}{lll}\n",
    "        0  & \\quad \\mbox{if within} &\\mbox{2 days of farmer's picking} \\\\\n",
    "        1  & \\quad \\mbox{if on and after}  &\\mbox{2 days of farmer's picking} \n",
    "    \\end{array}\n",
    "\\right.$\n",
    "$f_2 $ | Farmer factor-2, to remove rotten plums, $f_2 =\n",
    "\\left\\{\n",
    "    \\begin{array}{ll}\n",
    "        0.75  & \\quad \\mbox{on Farmer's day} \\\\\n",
    "        0     & \\quad \\mbox{else where} \n",
    "    \\end{array}\n",
    "\\right.$\n",
    "$f_3$ | For initial 2 days, $f_3 = \n",
    "\\left \\{\n",
    "    \\begin{array}{ll}\n",
    "        0 & \\quad \\mbox{on Day 0, 1, 2}\\\\\n",
    "        1 & \\quad \\mbox{on Day 3, onwards}\n",
    "    \\end{array}\n",
    "\\right.$\n"
   ]
  },
  {
   "cell_type": "markdown",
   "metadata": {},
   "source": [
    "# Equations"
   ]
  },
  {
   "cell_type": "markdown",
   "metadata": {
    "collapsed": true
   },
   "source": [
    "Let $k$ be the day index\n",
    "\\begin{align}\n",
    "P^{k+1} & = P^k + 3 - f_2 * N \\\\\n",
    "R^{k+1} & = (1 -f_2) * N \\\\\n",
    "G^{k+1} & = P^k + 3 - N \\\\\n",
    "-- &- -------- \\\\\n",
    "M & = f_3* (G^k -6) \\\\\n",
    "N & = R^k + 0.35 * M * f_1\\\\\n",
    "\\end{align}\n",
    "    "
   ]
  },
  {
   "cell_type": "markdown",
   "metadata": {},
   "source": [
    "# Solve the equations"
   ]
  },
  {
   "cell_type": "markdown",
   "metadata": {},
   "source": [
    "From here, there are two approaches to solve those equations -- brutal force, or NN (which offers something intelligent)"
   ]
  },
  {
   "cell_type": "markdown",
   "metadata": {},
   "source": [
    "## Brutal force"
   ]
  },
  {
   "cell_type": "markdown",
   "metadata": {},
   "source": [
    "We treat $M$ and $N$ as $M^{k+1}$ and $N^{k+1}$ for the $k+1$ day"
   ]
  },
  {
   "cell_type": "markdown",
   "metadata": {},
   "source": [
    "\\begin{align}\n",
    "P^{k+1} + f_2 * N^{k+1} &= P^k + 3 \\\\\n",
    "R^{k+1} - (1-f_2)*N^{k+1} &= 0 \\\\\n",
    "G^{k+1} + N^{k+1} &= P^k + 3 \\\\\n",
    "------- &- --- \\\\\n",
    "M^{k+1} &= f_3 * G^k - 6* f_3 \\\\\n",
    "-0.35 * f_1 * M^{k+1} + N^{k+1} &= R^k \\\\\n",
    "\\end{align}"
   ]
  },
  {
   "cell_type": "markdown",
   "metadata": {},
   "source": [
    "Let $\\mathbf{X}$ be \n",
    "$$\\mathbf{X} = \\begin{bmatrix}\n",
    "P\\\\\n",
    "R \\\\\n",
    "G \\\\\n",
    "--\\\\\n",
    "M \\\\\n",
    "N \\\\\n",
    "\\end{bmatrix}\n",
    "$$\n"
   ]
  },
  {
   "cell_type": "markdown",
   "metadata": {},
   "source": [
    "\\begin{equation}\n",
    "\\begin{bmatrix} \n",
    "1 & 0 & 0 & 0 & f_2 \\\\\n",
    "0 & 1 & 0 & 0 & -(1-f_2)\\\\\n",
    "0 & 0 & 1 & 0 & 1 \\\\\n",
    "0 & 0 & 0 & 1 & 0 \\\\\n",
    "0 & 0 & 0 & -0.35 * f_1 & 1\n",
    "\\end{bmatrix} \n",
    "\\begin{bmatrix}\n",
    "P\\\\\n",
    "R \\\\\n",
    "G \\\\\n",
    "M \\\\\n",
    "N\n",
    "\\end{bmatrix}^{k+1} = \n",
    "\\begin{bmatrix} \n",
    "1 & 0 & 0 & 0 & 0 \\\\\n",
    "0 & 0 & 0 & 0 & 0 \\\\\n",
    "1 & 0 & 0 & 0 & 0 \\\\\n",
    "0 & 0 & f_3 & 0 & 0 \\\\\n",
    "0 & 1 & 0 & 0 & 0\n",
    "\\end{bmatrix}\n",
    "\\begin{bmatrix}\n",
    "P\\\\\n",
    "R \\\\\n",
    "G \\\\\n",
    "M \\\\\n",
    "N\n",
    "\\end{bmatrix}^k\n",
    "+\n",
    "\\left[\n",
    "\\begin{array}{r}\n",
    "3\\\\\n",
    "0 \\\\\n",
    "3 \\\\\n",
    "-6*f_3 \\\\\n",
    "0\n",
    "\\end{array}\n",
    "\\right]\n",
    "\\end{equation}"
   ]
  },
  {
   "cell_type": "markdown",
   "metadata": {},
   "source": [
    "We then have \n",
    "\\begin{equation}\n",
    "W_1 \\mathbf{X}^{k+1} = W_2 \\mathbf{X}^k + B\n",
    "\\end{equation}"
   ]
  },
  {
   "cell_type": "markdown",
   "metadata": {},
   "source": [
    "where\n",
    "\\begin{equation}\n",
    "\\begin{array}{}\n",
    "W_1 = \\begin{bmatrix} \n",
    "1 & 0 & 0 & 0 & f_2 \\\\\n",
    "0 & 1 & 0 & 0 & -(1-f_2) \\\\\n",
    "0 & 0 & 1 & 0 & 1 \\\\\n",
    "0 & 0 & 0 & 1 & 0 \\\\\n",
    "0 & 0 & 0 & -0.35*f_1 & 1\n",
    "\\end{bmatrix} \n",
    ",&\n",
    "W_2 = \\begin{bmatrix} \n",
    "1 & 0 & 0 & 0 & 0 \\\\\n",
    "0 & 0 & 0 & 0 & 0 \\\\\n",
    "1 & 0 & 0 & 0 & 0 \\\\\n",
    "0 & 0 & f_3 & 0 & 0 \\\\\n",
    "0 & 1 & 0 & 0 & 0\n",
    "\\end{bmatrix},\n",
    "&\n",
    "B = \\left[\n",
    "\\begin{array}{r}\n",
    "3 \\\\\n",
    "0 \\\\\n",
    "3 \\\\\n",
    "-6*f_3 \\\\\n",
    "0\n",
    "\\end{array}\n",
    "\\right]\n",
    "\\end{array}\n",
    "\\end{equation}"
   ]
  },
  {
   "cell_type": "code",
   "execution_count": 75,
   "metadata": {
    "collapsed": true
   },
   "outputs": [],
   "source": [
    "import numpy as np\n",
    "import scipy as sp\n"
   ]
  },
  {
   "cell_type": "markdown",
   "metadata": {},
   "source": [
    "## Define a function to do the calculation"
   ]
  },
  {
   "cell_type": "markdown",
   "metadata": {},
   "source": [
    "To calculate today's Y, based on parameters f1 and f2, and the values from the previous day."
   ]
  },
  {
   "cell_type": "code",
   "execution_count": 76,
   "metadata": {
    "collapsed": true
   },
   "outputs": [],
   "source": [
    "def dx_cal(X, f1, f2, f3) :\n",
    "    W1 = np.array([[1,  0, 0, 0, f2],\n",
    "                   [0,  1, 0, 0, -(1-f2)],\n",
    "                   [0,  0, 1, 0, 1],\n",
    "                   [0,  0, 0, 1, 0],\n",
    "                   [0,  0, 0, -0.35*f1, 1]])\n",
    "\n",
    "    W2 = np.array([[1, 0, 0, 0, 0],\n",
    "                   [0, 0, 0, 0, 0],\n",
    "                   [1, 0, 0, 0, 0],\n",
    "                   [0, 0, f3, 0, 0],\n",
    "                   [0, 1, 0, 0, 0]])\n",
    "\n",
    "    B = np.array([[ 3, 0, 3,-6*f3, 0]]).T\n",
    "    \n",
    "    W1_inv = np.linalg.inv(W1)\n",
    "    \n",
    "    Y = W1_inv.dot(W2.dot(X) + B)\n",
    "    return np.rint(Y)\n"
   ]
  },
  {
   "cell_type": "code",
   "execution_count": 81,
   "metadata": {},
   "outputs": [],
   "source": [
    "D0 = np.array([[100, 3, 97, 0, 0]]).T"
   ]
  },
  {
   "cell_type": "code",
   "execution_count": 82,
   "metadata": {},
   "outputs": [],
   "source": [
    "D1 = dx_cal(D0, 1, 0, 0)"
   ]
  },
  {
   "cell_type": "code",
   "execution_count": 83,
   "metadata": {},
   "outputs": [
    {
     "data": {
      "text/plain": [
       "array([[ 103.,    3.,  100.,    0.,    3.]])"
      ]
     },
     "execution_count": 83,
     "metadata": {},
     "output_type": "execute_result"
    }
   ],
   "source": [
    "D1.T"
   ]
  },
  {
   "cell_type": "code",
   "execution_count": 84,
   "metadata": {},
   "outputs": [],
   "source": [
    "D2 = dx_cal(D1, 1, 0, 0)"
   ]
  },
  {
   "cell_type": "code",
   "execution_count": 85,
   "metadata": {},
   "outputs": [
    {
     "data": {
      "text/plain": [
       "array([ 106.,    3.,  103.,    0.,    3.])"
      ]
     },
     "execution_count": 85,
     "metadata": {},
     "output_type": "execute_result"
    }
   ],
   "source": [
    "np.rint(D2.T[0])"
   ]
  },
  {
   "cell_type": "code",
   "execution_count": 86,
   "metadata": {
    "collapsed": true
   },
   "outputs": [],
   "source": [
    "D3 = dx_cal(D2, 1, 0, 1)"
   ]
  },
  {
   "cell_type": "code",
   "execution_count": 87,
   "metadata": {},
   "outputs": [
    {
     "data": {
      "text/plain": [
       "array([ 109.,   37.,   72.,   97.,   37.])"
      ]
     },
     "execution_count": 87,
     "metadata": {},
     "output_type": "execute_result"
    }
   ],
   "source": [
    "np.rint(D3.T[0])"
   ]
  },
  {
   "cell_type": "code",
   "execution_count": 88,
   "metadata": {},
   "outputs": [],
   "source": [
    "D4 = dx_cal(D3, 1, 0.75, 1)"
   ]
  },
  {
   "cell_type": "code",
   "execution_count": 91,
   "metadata": {},
   "outputs": [
    {
     "data": {
      "text/plain": [
       "array([ 67.,  15.,  52.,  66.,  60.])"
      ]
     },
     "execution_count": 91,
     "metadata": {},
     "output_type": "execute_result"
    }
   ],
   "source": [
    "D4.T[0]"
   ]
  },
  {
   "cell_type": "code",
   "execution_count": 92,
   "metadata": {
    "collapsed": true
   },
   "outputs": [],
   "source": [
    "D5 = dx_cal(D4, 0, 0, 1)"
   ]
  },
  {
   "cell_type": "code",
   "execution_count": 93,
   "metadata": {},
   "outputs": [
    {
     "data": {
      "text/plain": [
       "array([ 70.,  15.,  55.,  46.,  15.])"
      ]
     },
     "execution_count": 93,
     "metadata": {},
     "output_type": "execute_result"
    }
   ],
   "source": [
    "D5.T[0]"
   ]
  },
  {
   "cell_type": "code",
   "execution_count": 94,
   "metadata": {
    "collapsed": true
   },
   "outputs": [],
   "source": [
    "D6 = dx_cal(D5, 0, 0, 1)"
   ]
  },
  {
   "cell_type": "code",
   "execution_count": 95,
   "metadata": {},
   "outputs": [
    {
     "data": {
      "text/plain": [
       "array([ 73.,  15.,  58.,  49.,  15.])"
      ]
     },
     "execution_count": 95,
     "metadata": {},
     "output_type": "execute_result"
    }
   ],
   "source": [
    "D6.T[0]"
   ]
  },
  {
   "cell_type": "code",
   "execution_count": null,
   "metadata": {
    "collapsed": true
   },
   "outputs": [],
   "source": []
  }
 ],
 "metadata": {
  "kernelspec": {
   "display_name": "Python [conda root]",
   "language": "python",
   "name": "conda-root-py"
  },
  "language_info": {
   "codemirror_mode": {
    "name": "ipython",
    "version": 2
   },
   "file_extension": ".py",
   "mimetype": "text/x-python",
   "name": "python",
   "nbconvert_exporter": "python",
   "pygments_lexer": "ipython2",
   "version": "2.7.13"
  }
 },
 "nbformat": 4,
 "nbformat_minor": 2
}
